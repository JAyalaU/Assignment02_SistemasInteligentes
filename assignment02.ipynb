{
 "cells": [
  {
   "cell_type": "markdown",
   "metadata": {},
   "source": [
    "# Assignment 2. Programming Intelligent Agents\n",
    "MTY - A01152534 - Jorge Antonio Ayala Urbina  \n",
    "MTY - Datos Ale  \n",
    "MTY - Datos Mike  "
   ]
  },
  {
   "cell_type": "code",
   "execution_count": 2,
   "metadata": {},
   "outputs": [
    {
     "name": "stdout",
     "output_type": "stream",
     "text": [
      "True\n"
     ]
    }
   ],
   "source": [
    "print(hunter1.alive)"
   ]
  },
  {
   "cell_type": "code",
   "execution_count": null,
   "metadata": {},
   "outputs": [],
   "source": [
    "from agents import *\n",
    "\n",
    "#Treasure1 thing\n",
    "class T(Thing):\n",
    "    pass\n",
    "\n",
    "#Treasure 2 thing\n",
    "class t(Thing):\n",
    "    pass\n",
    "\n",
    "#Reusable tool thing\n",
    "class H(Thing):\n",
    "    pass\n",
    "\n",
    "#Disposable tool thing\n",
    "class h(Thing):\n",
    "    pass\n",
    "\n",
    "#Wall thing\n",
    "class w(Thing):\n",
    "    pass\n",
    "\n",
    "#In this enviroment, the agent can see it all\n",
    "class IslandDay(Environment)\n",
    "    def(percept)"
   ]
  },
  {
   "cell_type": "code",
   "execution_count": 1,
   "metadata": {},
   "outputs": [],
   "source": [
    "#Reflex Hunter class (Should it be a general class for every type of hunter? I guess yes, to be confirmed)\n",
    "class ReflexTreasureHunter(Agent):\n",
    "    #Grab a reusable tool\n",
    "    def Gresuse(self, thing):\n",
    "        print(\"Hunter grabbed a reusable tool at {}.\".format(self.location))\n",
    "    \n",
    "    #Grab a disposable tool\n",
    "    def Gdispos(self, thing):\n",
    "        print(\"Hunter grabbed a disposable tool at {}.\".format(self.location))\n",
    "    \n",
    "    #Grab treasure 1\n",
    "    def GTreas1(self, thing):\n",
    "        print(\"Hunter grabbed a treasure1 at {}.\",format(self.location))\n",
    "    \n",
    "    #Grab a treasure 2\n",
    "    def GTreas2(self, thing):\n",
    "        print(\"Hunter grabbed a treasure2 at {}.\",format(self.location))\n",
    "\n",
    "#Create 1st hunter\n",
    "hunter1 = ReflexTreasureHunter()"
   ]
  }
 ],
 "metadata": {
  "kernelspec": {
   "display_name": "Python 3",
   "language": "python",
   "name": "python3"
  },
  "language_info": {
   "codemirror_mode": {
    "name": "ipython",
    "version": 3
   },
   "file_extension": ".py",
   "mimetype": "text/x-python",
   "name": "python",
   "nbconvert_exporter": "python",
   "pygments_lexer": "ipython3",
   "version": "3.7.3"
  }
 },
 "nbformat": 4,
 "nbformat_minor": 2
}
